{
 "cells": [
  {
   "cell_type": "code",
   "execution_count": 3,
   "metadata": {},
   "outputs": [
    {
     "name": "stdout",
     "output_type": "stream",
     "text": [
      "Collecting praw\n",
      "  Downloading praw-6.5.1-py3-none-any.whl (134 kB)\n",
      "Collecting update-checker>=0.16\n",
      "  Downloading update_checker-0.16-py2.py3-none-any.whl (7.6 kB)\n",
      "Collecting prawcore<2.0,>=1.0.1\n",
      "  Downloading prawcore-1.0.1-py2.py3-none-any.whl (14 kB)\n",
      "Collecting websocket-client>=0.54.0\n",
      "  Downloading websocket_client-0.57.0-py2.py3-none-any.whl (200 kB)\n",
      "Requirement already satisfied: requests>=2.3.0 in c:\\users\\domin\\anaconda3\\lib\\site-packages (from update-checker>=0.16->praw) (2.22.0)\n",
      "Requirement already satisfied: six in c:\\users\\domin\\anaconda3\\lib\\site-packages (from websocket-client>=0.54.0->praw) (1.12.0)\n",
      "Requirement already satisfied: chardet<3.1.0,>=3.0.2 in c:\\users\\domin\\anaconda3\\lib\\site-packages (from requests>=2.3.0->update-checker>=0.16->praw) (3.0.4)\n",
      "Requirement already satisfied: certifi>=2017.4.17 in c:\\users\\domin\\anaconda3\\lib\\site-packages (from requests>=2.3.0->update-checker>=0.16->praw) (2019.9.11)\n",
      "Requirement already satisfied: idna<2.9,>=2.5 in c:\\users\\domin\\anaconda3\\lib\\site-packages (from requests>=2.3.0->update-checker>=0.16->praw) (2.8)\n",
      "Requirement already satisfied: urllib3!=1.25.0,!=1.25.1,<1.26,>=1.21.1 in c:\\users\\domin\\anaconda3\\lib\\site-packages (from requests>=2.3.0->update-checker>=0.16->praw) (1.24.2)\n",
      "Installing collected packages: update-checker, prawcore, websocket-client, praw\n",
      "Successfully installed praw-6.5.1 prawcore-1.0.1 update-checker-0.16 websocket-client-0.57.0\n",
      "Note: you may need to restart the kernel to use updated packages.\n"
     ]
    }
   ],
   "source": [
    "pip install praw"
   ]
  },
  {
   "cell_type": "code",
   "execution_count": 5,
   "metadata": {},
   "outputs": [
    {
     "name": "stdout",
     "output_type": "stream",
     "text": [
      "Collecting python-dotenv\n",
      "  Downloading python_dotenv-0.12.0-py2.py3-none-any.whl (17 kB)\n",
      "Installing collected packages: python-dotenv\n",
      "Successfully installed python-dotenv-0.12.0\n",
      "Note: you may need to restart the kernel to use updated packages.\n"
     ]
    }
   ],
   "source": [
    "pip install -U python-dotenv"
   ]
  },
  {
   "cell_type": "code",
   "execution_count": 9,
   "metadata": {},
   "outputs": [
    {
     "name": "stdout",
     "output_type": "stream",
     "text": [
      "Collecting tldextract\n",
      "  Downloading tldextract-2.2.2-py2.py3-none-any.whl (48 kB)\n",
      "Requirement already satisfied: idna in c:\\users\\domin\\anaconda3\\lib\\site-packages (from tldextract) (2.8)\n",
      "Collecting requests-file>=1.4\n",
      "  Downloading requests_file-1.4.3-py2.py3-none-any.whl (4.0 kB)\n",
      "Requirement already satisfied: requests>=2.1.0 in c:\\users\\domin\\anaconda3\\lib\\site-packages (from tldextract) (2.22.0)\n",
      "Requirement already satisfied: setuptools in c:\\users\\domin\\anaconda3\\lib\\site-packages (from tldextract) (41.4.0)\n",
      "Requirement already satisfied: six in c:\\users\\domin\\anaconda3\\lib\\site-packages (from requests-file>=1.4->tldextract) (1.12.0)\n",
      "Requirement already satisfied: chardet<3.1.0,>=3.0.2 in c:\\users\\domin\\anaconda3\\lib\\site-packages (from requests>=2.1.0->tldextract) (3.0.4)\n",
      "Requirement already satisfied: urllib3!=1.25.0,!=1.25.1,<1.26,>=1.21.1 in c:\\users\\domin\\anaconda3\\lib\\site-packages (from requests>=2.1.0->tldextract) (1.24.2)\n",
      "Requirement already satisfied: certifi>=2017.4.17 in c:\\users\\domin\\anaconda3\\lib\\site-packages (from requests>=2.1.0->tldextract) (2019.9.11)\n",
      "Installing collected packages: requests-file, tldextract\n",
      "Successfully installed requests-file-1.4.3 tldextract-2.2.2\n",
      "Note: you may need to restart the kernel to use updated packages.\n"
     ]
    }
   ],
   "source": [
    "pip install tldextract"
   ]
  },
  {
   "cell_type": "code",
   "execution_count": 14,
   "metadata": {},
   "outputs": [
    {
     "name": "stderr",
     "output_type": "stream",
     "text": [
      "INFO:root:Starting application\n"
     ]
    },
    {
     "name": "stdout",
     "output_type": "stream",
     "text": [
      "2020-04-01 15:29:39,387 - root - INFO - Starting application\n"
     ]
    },
    {
     "name": "stderr",
     "output_type": "stream",
     "text": [
      "INFO:root:Instantiating Reddit instance\n"
     ]
    },
    {
     "name": "stdout",
     "output_type": "stream",
     "text": [
      "2020-04-01 15:29:39,392 - root - INFO - Instantiating Reddit instance\n"
     ]
    },
    {
     "ename": "ClientException",
     "evalue": "Required configuration setting 'client_id' missing. \nThis setting can be provided in a praw.ini file, as a keyword argument to the `Reddit` class constructor, or as an environment variable.",
     "output_type": "error",
     "traceback": [
      "\u001b[1;31m---------------------------------------------------------------------------\u001b[0m",
      "\u001b[1;31mClientException\u001b[0m                           Traceback (most recent call last)",
      "\u001b[1;32m<ipython-input-14-190b10615a64>\u001b[0m in \u001b[0;36m<module>\u001b[1;34m\u001b[0m\n\u001b[0;32m     45\u001b[0m \u001b[1;32mif\u001b[0m \u001b[0m__name__\u001b[0m \u001b[1;33m==\u001b[0m \u001b[1;34m\"__main__\"\u001b[0m\u001b[1;33m:\u001b[0m\u001b[1;33m\u001b[0m\u001b[1;33m\u001b[0m\u001b[0m\n\u001b[0;32m     46\u001b[0m     \u001b[0msetup_logging\u001b[0m\u001b[1;33m(\u001b[0m\u001b[1;33m)\u001b[0m\u001b[1;33m\u001b[0m\u001b[1;33m\u001b[0m\u001b[0m\n\u001b[1;32m---> 47\u001b[1;33m     \u001b[0mstart\u001b[0m\u001b[1;33m(\u001b[0m\u001b[1;33m)\u001b[0m\u001b[1;33m\u001b[0m\u001b[1;33m\u001b[0m\u001b[0m\n\u001b[0m",
      "\u001b[1;32m<ipython-input-14-190b10615a64>\u001b[0m in \u001b[0;36mstart\u001b[1;34m()\u001b[0m\n\u001b[0;32m     31\u001b[0m         \u001b[0muser_agent\u001b[0m\u001b[1;33m=\u001b[0m\u001b[0mconfig\u001b[0m\u001b[1;33m.\u001b[0m\u001b[0mUSER_AGENT\u001b[0m\u001b[1;33m,\u001b[0m\u001b[1;33m\u001b[0m\u001b[1;33m\u001b[0m\u001b[0m\n\u001b[0;32m     32\u001b[0m         \u001b[0musername\u001b[0m\u001b[1;33m=\u001b[0m\u001b[0mconfig\u001b[0m\u001b[1;33m.\u001b[0m\u001b[0mUSERNAME\u001b[0m\u001b[1;33m,\u001b[0m\u001b[1;33m\u001b[0m\u001b[1;33m\u001b[0m\u001b[0m\n\u001b[1;32m---> 33\u001b[1;33m         password=config.PASSWORD)\n\u001b[0m\u001b[0;32m     34\u001b[0m \u001b[1;33m\u001b[0m\u001b[0m\n\u001b[0;32m     35\u001b[0m     \u001b[1;32mtry\u001b[0m\u001b[1;33m:\u001b[0m\u001b[1;33m\u001b[0m\u001b[1;33m\u001b[0m\u001b[0m\n",
      "\u001b[1;32m~\\Anaconda3\\lib\\site-packages\\praw\\reddit.py\u001b[0m in \u001b[0;36m__init__\u001b[1;34m(self, site_name, requestor_class, requestor_kwargs, **config_settings)\u001b[0m\n\u001b[0;32m    181\u001b[0m                 \u001b[1;32mNone\u001b[0m\u001b[1;33m,\u001b[0m\u001b[1;33m\u001b[0m\u001b[1;33m\u001b[0m\u001b[0m\n\u001b[0;32m    182\u001b[0m             ):\n\u001b[1;32m--> 183\u001b[1;33m                 \u001b[1;32mraise\u001b[0m \u001b[0mClientException\u001b[0m\u001b[1;33m(\u001b[0m\u001b[0mrequired_message\u001b[0m\u001b[1;33m.\u001b[0m\u001b[0mformat\u001b[0m\u001b[1;33m(\u001b[0m\u001b[0mattribute\u001b[0m\u001b[1;33m)\u001b[0m\u001b[1;33m)\u001b[0m\u001b[1;33m\u001b[0m\u001b[1;33m\u001b[0m\u001b[0m\n\u001b[0m\u001b[0;32m    184\u001b[0m         \u001b[1;32mif\u001b[0m \u001b[0mself\u001b[0m\u001b[1;33m.\u001b[0m\u001b[0mconfig\u001b[0m\u001b[1;33m.\u001b[0m\u001b[0mclient_secret\u001b[0m \u001b[1;32mis\u001b[0m \u001b[0mself\u001b[0m\u001b[1;33m.\u001b[0m\u001b[0mconfig\u001b[0m\u001b[1;33m.\u001b[0m\u001b[0mCONFIG_NOT_SET\u001b[0m\u001b[1;33m:\u001b[0m\u001b[1;33m\u001b[0m\u001b[1;33m\u001b[0m\u001b[0m\n\u001b[0;32m    185\u001b[0m             raise ClientException(\n",
      "\u001b[1;31mClientException\u001b[0m: Required configuration setting 'client_id' missing. \nThis setting can be provided in a praw.ini file, as a keyword argument to the `Reddit` class constructor, or as an environment variable."
     ]
    }
   ],
   "source": [
    "# %load main.py\n",
    "\"\"\"Entry point of the sneakpeek application.\"\"\"\n",
    "\n",
    "import logging\n",
    "import praw\n",
    "import config\n",
    "from scan import scan\n",
    "\n",
    "\n",
    "def setup_logging():\n",
    "    \"\"\"Configure project logging options.\"\"\"\n",
    "    root = logging.getLogger()\n",
    "    root.setLevel(config.LOGGING[\"LEVEL\"])\n",
    "\n",
    "    handler = config.LOGGING[\"HANDLER\"]\n",
    "    handler.setLevel(logging.DEBUG)\n",
    "\n",
    "    formatter = logging.Formatter('%(asctime)s - %(name)s - %(levelname)s - %(message)s')\n",
    "\n",
    "    handler.setFormatter(formatter)\n",
    "    root.addHandler(handler)\n",
    "\n",
    "\n",
    "def start():\n",
    "    \"\"\"Start the sneakpeek application.\"\"\"\n",
    "    logging.info(\"Starting application\")\n",
    "    logging.info(\"Instantiating Reddit instance\")\n",
    "    reddit = praw.Reddit(\n",
    "        client_id=config.CLIENT[\"ID\"],\n",
    "        client_secret=config.CLIENT[\"SECRET\"],\n",
    "        user_agent=config.USER_AGENT,\n",
    "        username=config.USERNAME,\n",
    "        password=config.PASSWORD)\n",
    "\n",
    "    try:\n",
    "        scan(reddit.subreddit(config.SUBREDDIT))\n",
    "    except Exception as exception:\n",
    "        # This should never happen,\n",
    "        # because it breaks the infinite subreddit monitoring\n",
    "        # provided by subreddit.stream.submissions()\n",
    "        logging.critical(\"Exception occurred while scanning. This should never happen.\")\n",
    "        logging.critical(exception)\n",
    "\n",
    "\n",
    "if __name__ == \"__main__\":\n",
    "    setup_logging()\n",
    "    start()\n"
   ]
  },
  {
   "cell_type": "code",
   "execution_count": null,
   "metadata": {},
   "outputs": [],
   "source": [
    "# %load __init__.py\n"
   ]
  },
  {
   "cell_type": "code",
   "execution_count": 18,
   "metadata": {},
   "outputs": [
    {
     "ename": "NameError",
     "evalue": "name 'r' is not defined",
     "output_type": "error",
     "traceback": [
      "\u001b[1;31m---------------------------------------------------------------------------\u001b[0m",
      "\u001b[1;31mNameError\u001b[0m                                 Traceback (most recent call last)",
      "\u001b[1;32m<ipython-input-18-1bfc11bac55b>\u001b[0m in \u001b[0;36m<module>\u001b[1;34m\u001b[0m\n\u001b[1;32m----> 1\u001b[1;33m r.set_oauth_app_info(client_id='stJlUSUbPQe5lQ',\n\u001b[0m\u001b[0;32m      2\u001b[0m                      \u001b[0mclient_secret\u001b[0m\u001b[1;33m=\u001b[0m\u001b[1;34m'DoNotSHAREWithANYBODY'\u001b[0m\u001b[1;33m,\u001b[0m\u001b[1;33m\u001b[0m\u001b[1;33m\u001b[0m\u001b[0m\n\u001b[0;32m      3\u001b[0m                      \u001b[0mredirect_uri\u001b[0m\u001b[1;33m=\u001b[0m\u001b[1;34m'http://127.0.0.1:65010/'\u001b[0m\u001b[1;33m\u001b[0m\u001b[1;33m\u001b[0m\u001b[0m\n\u001b[0;32m      4\u001b[0m                                   'authorize_callback')\n",
      "\u001b[1;31mNameError\u001b[0m: name 'r' is not defined"
     ]
    }
   ],
   "source": [
    "r.set_oauth_app_info(client_id='stJlUSUbPQe5lQ',\n",
    "...                      client_secret='DoNotSHAREWithANYBODY',\n",
    "...                      redirect_uri='http://127.0.0.1:65010/'\n",
    "...                                   'authorize_callback')"
   ]
  },
  {
   "cell_type": "code",
   "execution_count": null,
   "metadata": {},
   "outputs": [],
   "source": []
  }
 ],
 "metadata": {
  "kernelspec": {
   "display_name": "Python 3",
   "language": "python",
   "name": "python3"
  },
  "language_info": {
   "codemirror_mode": {
    "name": "ipython",
    "version": 3
   },
   "file_extension": ".py",
   "mimetype": "text/x-python",
   "name": "python",
   "nbconvert_exporter": "python",
   "pygments_lexer": "ipython3",
   "version": "3.7.4"
  }
 },
 "nbformat": 4,
 "nbformat_minor": 2
}
